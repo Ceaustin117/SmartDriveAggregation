{
 "cells": [
  {
   "cell_type": "markdown",
   "metadata": {},
   "source": [
    "Calculate Average(Salary) by Company\n",
    "Calculate Sum(Salary) by Dept\n",
    "If the above CSV dataset is very large and updated realtime - propose alternative designs."
   ]
  },
  {
   "cell_type": "code",
   "execution_count": 1,
   "metadata": {},
   "outputs": [],
   "source": [
    "import time\n",
    "import pandas as pd\n",
    "import pyspark.sql.functions as func\n",
    "import matplotlib.pyplot as plt\n",
    "from pyspark.context import SparkContext\n",
    "from pyspark.sql.session import SparkSession\n",
    "sc = SparkContext(('local[30]'))\n",
    "spark = SparkSession(sc)\n",
    "spark = SparkSession \\\n",
    "   .builder \\\n",
    "   .appName(\"PySpark Sample\") \\\n",
    "   .config(\"spark.some.config.option\", \"some-value\") \\\n",
    "   .getOrCreate()\n",
    "\n",
    "\n",
    "class DataAccess:\n",
    "    name = \"\"\n",
    "    \n",
    "    def __init__(self, name):\n",
    "        self.name = name\n",
    "        \n",
    "    def get_pandas_csv(self,file_path):\n",
    "        mylist = []\n",
    "        for chunk in  pd.read_csv(file_path, chunksize=10000000):\n",
    "            mylist.append(chunk)\n",
    "        train_pandas = pd.concat(mylist, axis= 0)\n",
    "        del mylist\n",
    "        return train_pandas\n",
    "    \n",
    "    def get_spark_csv(self,file_path):\n",
    "        train_spark = spark.read.csv('train.csv',header=True)\n",
    "        return train_spark\n",
    "    \n",
    "    def get_parallel_from_spark_df(self,file_path):\n",
    "        b = sc.parallelize(train_selected.take(30000))\n",
    "        train_selected_parallel = b.toDF()\n",
    "        return train_selected_parallel\n",
    "\n",
    "class DataAggregate(DataAccess):\n",
    "      name = \"\"\n",
    "      \n",
    "      def __init__(self,name):\n",
    "        super().__init__(name)\n",
    "        self.name = name"
   ]
  },
  {
   "cell_type": "code",
   "execution_count": 2,
   "metadata": {},
   "outputs": [],
   "source": [
    "data_access = DataAccess(\"Data_Access_1\")\n",
    "train_pandas = data_access.get_pandas_csv('train.csv')\n",
    "train_spark = data_access.get_spark_csv('train.csv')\n",
    "train_spark = train_spark.withColumn(\"Total_Revenue\",train_spark.Total_Revenue.cast(\"integer\"))\n",
    "count = train_spark.count()\n",
    "train_selected = train_spark.select(\"Region\",\"Total_Revenue\")\n",
    "train_selected_parallel = data_access.get_parallel_from_spark_df(train_selected)\n",
    "b = sc.parallelize(train_selected.take(30000))\n",
    "train_selected_parallel = b.toDF()"
   ]
  },
  {
   "cell_type": "code",
   "execution_count": 3,
   "metadata": {},
   "outputs": [],
   "source": [
    "#Calculate time to find sum and average using pandas\n",
    "start_time = time.time()\n",
    "pandas_sum = train_pandas.groupby(\"Region\")[\"Total_Revenue\"].sum()\n",
    "pandas_avg = pandas_sum/count\n",
    "pandas_time = time.time() - start_time\n",
    "#Calculate time to find sum and average using spark\n",
    "start_time = time.time()\n",
    "spark_avg = train_spark.groupBy(\"Region\").agg(func.sum(\"Total_Revenue\"),func.avg(\"Total_Revenue\"))\n",
    "spark_time = time.time() - start_time\n",
    "#Calculate time to find sum and average using pandas with extraneous columns removed\n",
    "start_time = time.time()\n",
    "train_selected.groupBy(\"Region\").agg(func.sum(\"Total_Revenue\"),func.avg(\"Total_Revenue\"))\n",
    "spark_selected_time = time.time() - start_time\n",
    "#Calculate time to find sum and average using pandas with extraneous columns removed and a parallelized dataframe\n",
    "start_time = time.time()\n",
    "train_selected_parallel.groupBy(\"Region\").agg(func.sum(\"Total_Revenue\"),func.avg(\"Total_Revenue\"))\n",
    "spark_selected_parallel_time = time.time() - start_time"
   ]
  },
  {
   "cell_type": "code",
   "execution_count": 4,
   "metadata": {},
   "outputs": [
    {
     "name": "stdout",
     "output_type": "stream",
     "text": [
      "pandas time to find average:  6.667466402053833\n",
      "spark_time to find average:  0.10601520538330078\n",
      "spark_selected_time to find average:  0.06599116325378418\n",
      "spark_selected_parallel_time to find average:  0.06299614906311035\n"
     ]
    },
    {
     "data": {
      "image/png": "[encoded data removed]",
      "text/plain": [
       "<Figure size 432x288 with 1 Axes>"
      ]
     },
     "metadata": {
      "needs_background": "light"
     },
     "output_type": "display_data"
    }
   ],
   "source": [
    "print(\"pandas time to find average: \",pandas_time)\n",
    "print(\"spark_time to find average: \",spark_time)\n",
    "print(\"spark_selected_time to find average: \",spark_selected_time)\n",
    "print(\"spark_selected_parallel_time to find average: \",spark_selected_parallel_time)\n",
    "fig = plt.figure()\n",
    "ax = fig.add_axes([0,0,1,1])\n",
    "types = ['pandas', 'spark', 'spark_selected', 'spark_selected_parallel']\n",
    "times = [pandas_time,spark_time,spark_selected_time,spark_selected_parallel_time]\n",
    "ax.bar(types,times)\n",
    "plt.show()"
   ]
  },
  {
   "cell_type": "code",
   "execution_count": null,
   "metadata": {},
   "outputs": [],
   "source": []
  }
 ],
 "metadata": {
  "kernelspec": {
   "display_name": "Python 3",
   "language": "python",
   "name": "python3"
  },
  "language_info": {
   "codemirror_mode": {
    "name": "ipython",
    "version": 3
   },
   "file_extension": ".py",
   "mimetype": "text/x-python",
   "name": "python",
   "nbconvert_exporter": "python",
   "pygments_lexer": "ipython3",
   "version": "3.8.2"
  }
 },
 "nbformat": 4,
 "nbformat_minor": 4
}
